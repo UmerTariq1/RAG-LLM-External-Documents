{
  "cells": [
    {
      "cell_type": "code",
      "execution_count": null,
      "metadata": {
        "colab": {
          "base_uri": "https://localhost:8080/"
        },
        "collapsed": true,
        "id": "bdnP6uTvHFG5",
        "outputId": "93562aff-28fd-4bf9-fb25-01bdb29c5e8b"
      },
      "outputs": [],
      "source": [
        "#@title Pip installations for running the program on colab\n",
        "!pip install -q datasets\n",
        "!pip install -q sentence_transformers\n",
        "!pip install -q faiss-gpu\n",
        "!pip install -q faiss-cpu accelerate bitsandbytes\n",
        "!pip install -q --upgrade faiss-cpu\n",
        "!pip install -q -U bitsandbytes\n",
        "!pip install -q --upgrade transformers"
      ]
    },
    {
      "cell_type": "code",
      "execution_count": null,
      "metadata": {
        "id": "0UGDn-X_HKIB"
      },
      "outputs": [],
      "source": [
        "!pip install huggingface_hub\n",
        "\n",
        "from huggingface_hub import notebook_login\n",
        "notebook_login()\n",
        "\n",
        "# enter Huggingface token with access to the llama3 model"
      ]
    },
    {
      "cell_type": "markdown",
      "metadata": {
        "id": "Q39j3M99W3P3"
      },
      "source": [
        "## Hosting on Streamlit"
      ]
    },
    {
      "cell_type": "code",
      "execution_count": null,
      "metadata": {
        "id": "LR8kQBMFPzJ-"
      },
      "outputs": [],
      "source": [
        "!npm install -g localtunnel\n",
        "!pip install -q streamlit"
      ]
    },
    {
      "cell_type": "code",
      "execution_count": 2,
      "metadata": {
        "colab": {
          "base_uri": "https://localhost:8080/"
        },
        "id": "Ulej7GhSPzDw",
        "outputId": "c4907f61-c189-4564-9eed-70fb93970a6e"
      },
      "outputs": [
        {
          "name": "stdout",
          "output_type": "stream",
          "text": [
            "35.227.90.205\n"
          ]
        }
      ],
      "source": [
        "!curl ipv4.icanhazip.com\n",
        "\n",
        "# this will give the IP. cope this"
      ]
    },
    {
      "cell_type": "code",
      "execution_count": null,
      "metadata": {
        "colab": {
          "base_uri": "https://localhost:8080/"
        },
        "id": "JE2uNL2dPzA0",
        "outputId": "70979538-1ff0-4129-b58b-0e47f136f386"
      },
      "outputs": [
        {
          "name": "stdout",
          "output_type": "stream",
          "text": [
            "your url is: https://brown-rats-make.loca.lt\n"
          ]
        }
      ],
      "source": [
        "!streamlit run app.py &>./logs.txt & npx localtunnel --port 8501\n",
        "# this will the url. open it and it will ask for the password. enter the ip from the above cell"
      ]
    },
    {
      "cell_type": "code",
      "execution_count": null,
      "metadata": {
        "colab": {
          "base_uri": "https://localhost:8080/"
        },
        "id": "kvNebXq7fgN4",
        "outputId": "3bd6941e-2f1f-4634-b1b0-7da6f7564364"
      },
      "outputs": [
        {
          "name": "stdout",
          "output_type": "stream",
          "text": [
            "Overwriting app.py\n"
          ]
        }
      ],
      "source": [
        "import streamlit as st\n",
        "from rag_chatbot_psa import RAGChatbot #the chatbot class from the other file\n",
        "\n",
        "# Initialize the chatbot and store it in session state if it doesn't already exist\n",
        "if 'chatbot' not in st.session_state:\n",
        "    st.session_state.chatbot = RAGChatbot()\n",
        "\n",
        "chatbot = st.session_state.chatbot\n",
        "\n",
        "# App title and description\n",
        "st.title(\"💬 Chatbot - Ask your questions away\")\n",
        "st.write(\n",
        "    \"\"\"\n",
        "    RAG based chatbot that uses a custom generative model to answer your queries.\n",
        "    \"\"\"\n",
        ")\n",
        "\n",
        "# Initialize session state for messages\n",
        "if \"messages\" not in st.session_state:\n",
        "    st.session_state.messages = []\n",
        "\n",
        "# Display existing chat messages\n",
        "for message in st.session_state.messages:\n",
        "    with st.chat_message(message[\"role\"]):\n",
        "        st.markdown(message[\"content\"])\n",
        "\n",
        "# Add a dropdown menu for selecting response type\n",
        "response_type = st.selectbox(\"Choose response type:\", (\"Fetch top 3 relevant documents\", \"Extract answer\"))\n",
        "\n",
        "\n",
        "# Chat input field\n",
        "prompt = st.chat_input(\"What is up?\")\n",
        "\n",
        "if prompt:\n",
        "    # Store and display the user's prompt\n",
        "    st.session_state.messages.append({\"role\": \"user\", \"content\": prompt})\n",
        "    with st.chat_message(\"user\"):\n",
        "        st.markdown(prompt)\n",
        "\n",
        "\n",
        "    if response_type == \"Fetch top 3 relevant documents\":\n",
        "        scores, retrieved_documents = chatbot.search(prompt, 3)\n",
        "        retrieved_documents2 = [doc[\"text\"] for doc in retrieved_documents[\"text\"]]\n",
        "\n",
        "        response = \"Here are some relevant documents:\\n\"\n",
        "        for idx, doc in enumerate(retrieved_documents2):\n",
        "            response += \"\\n--------------------------\"\n",
        "            response += f\"\\n**Document {idx+1}:**\\n<div style='font-size:14px;'>{doc}</div>\"\n",
        "        response = response.replace('\\n', '<br>')  # Replace newlines with HTML breaks\n",
        "    else:\n",
        "        # Generate a response using the custom generative model\n",
        "        response = chatbot.rag_chatbot(prompt, k=5, response_type=response_type)\n",
        "\n",
        "\n",
        "    # Store and display the bot's response\n",
        "    st.session_state.messages.append({\"role\": \"bot\", \"content\": response})\n",
        "    with st.chat_message(\"bot\"):\n",
        "        st.markdown(response, unsafe_allow_html=True)"
      ]
    },
    {
      "cell_type": "code",
      "execution_count": null,
      "metadata": {
        "id": "4f_3MRaYKglv"
      },
      "outputs": [],
      "source": []
    },
    {
      "cell_type": "code",
      "execution_count": null,
      "metadata": {
        "id": "W9VXb7GRW0VE"
      },
      "outputs": [],
      "source": []
    },
    {
      "cell_type": "code",
      "execution_count": null,
      "metadata": {
        "id": "1BwhgyorokR0"
      },
      "outputs": [],
      "source": []
    },
    {
      "cell_type": "markdown",
      "metadata": {
        "id": "BMvoQufE5M5a"
      },
      "source": [
        "## Local Testing"
      ]
    },
    {
      "cell_type": "code",
      "execution_count": null,
      "metadata": {
        "id": "_gAan0UGokMT"
      },
      "outputs": [],
      "source": [
        "from rag_chatbot_psa import RAGChatbot"
      ]
    },
    {
      "cell_type": "code",
      "execution_count": null,
      "metadata": {
        "colab": {
          "base_uri": "https://localhost:8080/",
          "height": 264,
          "referenced_widgets": [
            "741175d748b34350ada521d9c82255cd",
            "90e840da237c4499a6be124951756986",
            "c00c4698f00d4a66bf4fbd06324c83fb",
            "1781cb36a10b4f5286c64b51826a2b81",
            "33dcaa4cb62042d091ca7a44f4a54965",
            "0bbb7195db4e4f3fa7084c9b1ff50a28",
            "703419e4f80f4b519df77f8bfeb59e66",
            "9e0db63005dd47d4a0baac6c898b4025",
            "c6418f54fd5f44baaea242823df9fb20",
            "c867d172deff4d4f86772d909f7c14cf",
            "f26533af86254de0b4445ad29b21c1f3",
            "dcff0badd5f74befa2d44ba4a35efa32",
            "82601fc2882143398cadf7e5ccda0a49",
            "facacfbe43d84f9aa3ba0434969c6893",
            "1592391123b24543a9559b94b9a5293f",
            "9394b096fff844d4ae61540b7502a441",
            "4a17b56ddbc243cb8b01fb5b603780a2",
            "18eef6e0da914386bbc7e8a04720c204",
            "8d740436094245a7b39318e553478e33",
            "b70ad0f3660d467abcd25c424b19d28b",
            "0cb9e6c1b41f4953baf228044edf54cd",
            "8bbb08060a3b4f168b001048bf0a6def",
            "4e73a4dbfbff4fa295fad275f79a22ec",
            "bef8822cdd77442e8b28932bcb92247b",
            "aab9730dda204ad89a08d22bebff9e4b",
            "a8f2beace36e48bf832661443becfb42",
            "cd6c1e4bb8f94e5e9464bba5f9ebad3f",
            "de890e1ab7af4040a351f68353ad771f",
            "ddc2d265964f48fa8828be658f512c84",
            "3979142ad2bb4717a2047ddda01a9e43",
            "781874e44b6a4f15a03e3f7bac77d610",
            "668ef9ab0a5d406dbe71c3c9444253c6",
            "24cc20717c8a48858925c86db166a061"
          ]
        },
        "id": "LcFzbqLhooNV",
        "outputId": "d1951538-f751-42c4-ba12-d3d7205db817"
      },
      "outputs": [],
      "source": [
        "chatbot = RAGChatbot()"
      ]
    },
    {
      "cell_type": "code",
      "execution_count": null,
      "metadata": {
        "colab": {
          "base_uri": "https://localhost:8080/",
          "height": 218
        },
        "id": "m3kjhQKgtkcP",
        "outputId": "e7c34829-23c9-4ccb-8ac4-56d431087c69"
      },
      "outputs": [
        {
          "name": "stderr",
          "output_type": "stream",
          "text": [
            "The attention mask and the pad token id were not set. As a consequence, you may observe unexpected behavior. Please pass your input's `attention_mask` to obtain reliable results.\n",
            "Setting `pad_token_id` to `eos_token_id`:128009 for open-end generation.\n",
            "The attention mask is not set and cannot be inferred from input because pad token is same as eos token.As a consequence, you may observe unexpected behavior. Please pass your input's `attention_mask` to obtain reliable results.\n"
          ]
        },
        {
          "data": {
            "application/vnd.google.colaboratory.intrinsic+json": {
              "type": "string"
            },
            "text/plain": [
              "'The accommodation in Saarbrucken is generally convenient and affordable. There are options like Cusanushaus, a private dorm in the city center, and SBT, another private dorm with studio apartments. \\n\\nCusanushaus offers rooms starting at 290 euros for the smallest rooms without a toilet, with options to add amenities like a toilet for an additional 30 euros. The dorm has a shared kitchen and washrooms, but the cleaning is handled by the staff. \\n\\nSBT, on the other hand, offers studio apartments with a cold rent of around 350 euros and a warm rent of 400-500 euros. \\n\\nAdditionally, you can also consider looking for Wohngemeinschaft (WG), which are shared apartments where you live with other apartment-mates. You can find WGs on websites like WG-Gesucht, Ebay Klein, or Immobilien Scout.'"
            ]
          },
          "execution_count": 9,
          "metadata": {},
          "output_type": "execute_result"
        }
      ],
      "source": [
        "prompt = \"How is the accomodation in Saarbrucken ? \"\n",
        "chatbot.rag_chatbot(prompt, k=5)"
      ]
    },
    {
      "cell_type": "code",
      "execution_count": null,
      "metadata": {
        "id": "ZVFmXC2k70WR"
      },
      "outputs": [],
      "source": [
        "scores, retrieved_documents = chatbot.search(prompt, 3)"
      ]
    },
    {
      "cell_type": "code",
      "execution_count": null,
      "metadata": {
        "id": "yPdI6S25-BGM"
      },
      "outputs": [],
      "source": [
        "retrieved_documents2 = [doc[\"text\"] for doc in retrieved_documents[\"text\"]]\n",
        "response = \"Here are some relevant documents :\"\n",
        "for idx, doc in enumerate(retrieved_documents2):\n",
        "  response += \"\\n--------------------------\"\n",
        "  response += f\"\\nDocument {idx+1} : {doc}\"\n"
      ]
    },
    {
      "cell_type": "code",
      "execution_count": null,
      "metadata": {
        "colab": {
          "base_uri": "https://localhost:8080/"
        },
        "id": "NADmprLC_LHv",
        "outputId": "a5507b6d-dc50-4a5a-9795-2dcd8130f5df"
      },
      "outputs": [
        {
          "name": "stdout",
          "output_type": "stream",
          "text": [
            "Here are some relevant documents :\n",
            "--------------------------\n",
            "Document 1 : Heading 1: Living in Saarbrücken 🌆\n",
            "Heading 2: Get to know Saarbrucken\n",
            "Body:\n",
            "Saarbrucken(SB) is nice small city in Germany near France and Luxemburg. Its the capital of Saarland and majority of the population here is young. There are many Turkish people here so the city is generally Muslim-friendly and halal options are abundant.The university is fairly good but your experience will vary from course to course.\n",
            "There are 2 main areas of Saarbrucken that you should know about. Dudweiler and SB City Center. SB city center as the name suggests is the center of the city. Dudweiler is a town in the outskirts of Saarbrucken. University is in the middle of SB city center and Dudweiler. Most of the students live in these 2 areas. Both are around 15-20 min from the university. You can find more details about accomodation in its own section.\n",
            "--------------------------\n",
            "Document 2 : Heading 1: Living in Saarbrücken 🌆\n",
            "Heading 2: Frequently Asked Questions (FAQs) ❓\n",
            "Body:\n",
            "Last updated On : 14 March 24\n",
            "--------------------------\n",
            "Document 3 : Heading 1: Accomodation and Living 🏘\n",
            "Heading 2: Applying in Cusanushaus\n",
            "Body:\n",
            "Last updated On : 11 Feb 24\n",
            "Cusanushaus is a private dorm in SB near the city center. There are 3 different types of rooms in this dorm, whose details you can see on the website linked below. You can see dorm's exact location on the map linked in Life in Saarbrucken Section. To apply for this dorm follow this process.\n",
            "1- Visit the official website: https://cusanustreff.de/\n",
            "2- Explore the different rooms. The rooms are of three categories and each has two variants i.e. with and without a toilet inside.\n",
            "3- Download the from the website and duly fill it.\n",
            "4- Send the form on the mentioned email and the landlord will put your name in the queue.\n",
            "Cusanushaus offers one of the most convenient and cheapest locations you'll find in the city center. There are three bus stations within 3 minutes of foot. 3 different grocery stores under 10 minutes on foot, one of which is just 2 minutes away. The view is amazing, you can see the Saar river right from your room's window (if you get a room on the roadside facing). The city center is under 5 minutes on foot, the main train station at around 8-10 minutes on foot.. you get the point.\n",
            "Rent starts at 290 euros for the smallest rooms without toilet, from there you add around 30 euros for everything you add on top.\n",
            "Lastly, one of the main \"issues\" of such a dorm is the shared kitchen and shared washrooms (including toilets). The main kitchen, including the main fridge but tenants usually buy a small fridge for their room, is shared among the entire floor consisting around 12-15 tenants. According to the Pakistani tenants living there, its rather rare that you find the kitchen completely busy and you have to wait for your turn to cook, very few people actually cook but this can vary. There are two toilets and a dedicated shower area on each end of the hallway. These are shared among (roughly) 6-8 people.\n",
            "The cleaning of these shared spaces is handled by the cleaning staff. They clean the toilets, shower, kitchen and the hallway in the morning of every week day.\n",
            "If you are unsure about anything, feel free to reachout to any of the seniors already living there to clear out any confussion.\n",
            "<br><br>\n",
            "You can also look for Wohngemeinschaft (WG - *pronounced as WheyGhey*). WGs are shared apartments where you live with other apartment-mates. In this case you have a shared kitchen and bathroom among the apartment mates.\n",
            "You can look for WGs on [WG-Gesucht](https://www.wg-gesucht.de) or [Ebay Klein](https://www.kleinanzeigen.de/stadt/saarbruecken/) or [Immobilien Scout](https://www.immobilienscout24.de/).\n",
            "<br>\n"
          ]
        }
      ],
      "source": [
        "print(response)"
      ]
    },
    {
      "cell_type": "code",
      "execution_count": null,
      "metadata": {
        "id": "MuiwmdxqAtRn"
      },
      "outputs": [],
      "source": []
    }
  ],
  "metadata": {
    "accelerator": "GPU",
    "colab": {
      "gpuType": "T4",
      "provenance": []
    },
    "kernelspec": {
      "display_name": "Python 3",
      "name": "python3"
    },
    "language_info": {
      "name": "python"
    },
    "widgets": {
      "application/vnd.jupyter.widget-state+json": {
        "0bbb7195db4e4f3fa7084c9b1ff50a28": {
          "model_module": "@jupyter-widgets/base",
          "model_module_version": "1.2.0",
          "model_name": "LayoutModel",
          "state": {
            "_model_module": "@jupyter-widgets/base",
            "_model_module_version": "1.2.0",
            "_model_name": "LayoutModel",
            "_view_count": null,
            "_view_module": "@jupyter-widgets/base",
            "_view_module_version": "1.2.0",
            "_view_name": "LayoutView",
            "align_content": null,
            "align_items": null,
            "align_self": null,
            "border": null,
            "bottom": null,
            "display": null,
            "flex": null,
            "flex_flow": null,
            "grid_area": null,
            "grid_auto_columns": null,
            "grid_auto_flow": null,
            "grid_auto_rows": null,
            "grid_column": null,
            "grid_gap": null,
            "grid_row": null,
            "grid_template_areas": null,
            "grid_template_columns": null,
            "grid_template_rows": null,
            "height": null,
            "justify_content": null,
            "justify_items": null,
            "left": null,
            "margin": null,
            "max_height": null,
            "max_width": null,
            "min_height": null,
            "min_width": null,
            "object_fit": null,
            "object_position": null,
            "order": null,
            "overflow": null,
            "overflow_x": null,
            "overflow_y": null,
            "padding": null,
            "right": null,
            "top": null,
            "visibility": null,
            "width": null
          }
        },
        "0cb9e6c1b41f4953baf228044edf54cd": {
          "model_module": "@jupyter-widgets/base",
          "model_module_version": "1.2.0",
          "model_name": "LayoutModel",
          "state": {
            "_model_module": "@jupyter-widgets/base",
            "_model_module_version": "1.2.0",
            "_model_name": "LayoutModel",
            "_view_count": null,
            "_view_module": "@jupyter-widgets/base",
            "_view_module_version": "1.2.0",
            "_view_name": "LayoutView",
            "align_content": null,
            "align_items": null,
            "align_self": null,
            "border": null,
            "bottom": null,
            "display": null,
            "flex": null,
            "flex_flow": null,
            "grid_area": null,
            "grid_auto_columns": null,
            "grid_auto_flow": null,
            "grid_auto_rows": null,
            "grid_column": null,
            "grid_gap": null,
            "grid_row": null,
            "grid_template_areas": null,
            "grid_template_columns": null,
            "grid_template_rows": null,
            "height": null,
            "justify_content": null,
            "justify_items": null,
            "left": null,
            "margin": null,
            "max_height": null,
            "max_width": null,
            "min_height": null,
            "min_width": null,
            "object_fit": null,
            "object_position": null,
            "order": null,
            "overflow": null,
            "overflow_x": null,
            "overflow_y": null,
            "padding": null,
            "right": null,
            "top": null,
            "visibility": null,
            "width": null
          }
        },
        "1592391123b24543a9559b94b9a5293f": {
          "model_module": "@jupyter-widgets/controls",
          "model_module_version": "1.5.0",
          "model_name": "HTMLModel",
          "state": {
            "_dom_classes": [],
            "_model_module": "@jupyter-widgets/controls",
            "_model_module_version": "1.5.0",
            "_model_name": "HTMLModel",
            "_view_count": null,
            "_view_module": "@jupyter-widgets/controls",
            "_view_module_version": "1.5.0",
            "_view_name": "HTMLView",
            "description": "",
            "description_tooltip": null,
            "layout": "IPY_MODEL_0cb9e6c1b41f4953baf228044edf54cd",
            "placeholder": "​",
            "style": "IPY_MODEL_8bbb08060a3b4f168b001048bf0a6def",
            "value": " 41/41 [00:04&lt;00:00, 10.30 examples/s]"
          }
        },
        "1781cb36a10b4f5286c64b51826a2b81": {
          "model_module": "@jupyter-widgets/controls",
          "model_module_version": "1.5.0",
          "model_name": "HTMLModel",
          "state": {
            "_dom_classes": [],
            "_model_module": "@jupyter-widgets/controls",
            "_model_module_version": "1.5.0",
            "_model_name": "HTMLModel",
            "_view_count": null,
            "_view_module": "@jupyter-widgets/controls",
            "_view_module_version": "1.5.0",
            "_view_name": "HTMLView",
            "description": "",
            "description_tooltip": null,
            "layout": "IPY_MODEL_c867d172deff4d4f86772d909f7c14cf",
            "placeholder": "​",
            "style": "IPY_MODEL_f26533af86254de0b4445ad29b21c1f3",
            "value": " 4/4 [01:08&lt;00:00, 14.82s/it]"
          }
        },
        "18eef6e0da914386bbc7e8a04720c204": {
          "model_module": "@jupyter-widgets/controls",
          "model_module_version": "1.5.0",
          "model_name": "DescriptionStyleModel",
          "state": {
            "_model_module": "@jupyter-widgets/controls",
            "_model_module_version": "1.5.0",
            "_model_name": "DescriptionStyleModel",
            "_view_count": null,
            "_view_module": "@jupyter-widgets/base",
            "_view_module_version": "1.2.0",
            "_view_name": "StyleView",
            "description_width": ""
          }
        },
        "24cc20717c8a48858925c86db166a061": {
          "model_module": "@jupyter-widgets/controls",
          "model_module_version": "1.5.0",
          "model_name": "DescriptionStyleModel",
          "state": {
            "_model_module": "@jupyter-widgets/controls",
            "_model_module_version": "1.5.0",
            "_model_name": "DescriptionStyleModel",
            "_view_count": null,
            "_view_module": "@jupyter-widgets/base",
            "_view_module_version": "1.2.0",
            "_view_name": "StyleView",
            "description_width": ""
          }
        },
        "33dcaa4cb62042d091ca7a44f4a54965": {
          "model_module": "@jupyter-widgets/base",
          "model_module_version": "1.2.0",
          "model_name": "LayoutModel",
          "state": {
            "_model_module": "@jupyter-widgets/base",
            "_model_module_version": "1.2.0",
            "_model_name": "LayoutModel",
            "_view_count": null,
            "_view_module": "@jupyter-widgets/base",
            "_view_module_version": "1.2.0",
            "_view_name": "LayoutView",
            "align_content": null,
            "align_items": null,
            "align_self": null,
            "border": null,
            "bottom": null,
            "display": null,
            "flex": null,
            "flex_flow": null,
            "grid_area": null,
            "grid_auto_columns": null,
            "grid_auto_flow": null,
            "grid_auto_rows": null,
            "grid_column": null,
            "grid_gap": null,
            "grid_row": null,
            "grid_template_areas": null,
            "grid_template_columns": null,
            "grid_template_rows": null,
            "height": null,
            "justify_content": null,
            "justify_items": null,
            "left": null,
            "margin": null,
            "max_height": null,
            "max_width": null,
            "min_height": null,
            "min_width": null,
            "object_fit": null,
            "object_position": null,
            "order": null,
            "overflow": null,
            "overflow_x": null,
            "overflow_y": null,
            "padding": null,
            "right": null,
            "top": null,
            "visibility": null,
            "width": null
          }
        },
        "3979142ad2bb4717a2047ddda01a9e43": {
          "model_module": "@jupyter-widgets/base",
          "model_module_version": "1.2.0",
          "model_name": "LayoutModel",
          "state": {
            "_model_module": "@jupyter-widgets/base",
            "_model_module_version": "1.2.0",
            "_model_name": "LayoutModel",
            "_view_count": null,
            "_view_module": "@jupyter-widgets/base",
            "_view_module_version": "1.2.0",
            "_view_name": "LayoutView",
            "align_content": null,
            "align_items": null,
            "align_self": null,
            "border": null,
            "bottom": null,
            "display": null,
            "flex": null,
            "flex_flow": null,
            "grid_area": null,
            "grid_auto_columns": null,
            "grid_auto_flow": null,
            "grid_auto_rows": null,
            "grid_column": null,
            "grid_gap": null,
            "grid_row": null,
            "grid_template_areas": null,
            "grid_template_columns": null,
            "grid_template_rows": null,
            "height": null,
            "justify_content": null,
            "justify_items": null,
            "left": null,
            "margin": null,
            "max_height": null,
            "max_width": null,
            "min_height": null,
            "min_width": null,
            "object_fit": null,
            "object_position": null,
            "order": null,
            "overflow": null,
            "overflow_x": null,
            "overflow_y": null,
            "padding": null,
            "right": null,
            "top": null,
            "visibility": null,
            "width": null
          }
        },
        "4a17b56ddbc243cb8b01fb5b603780a2": {
          "model_module": "@jupyter-widgets/base",
          "model_module_version": "1.2.0",
          "model_name": "LayoutModel",
          "state": {
            "_model_module": "@jupyter-widgets/base",
            "_model_module_version": "1.2.0",
            "_model_name": "LayoutModel",
            "_view_count": null,
            "_view_module": "@jupyter-widgets/base",
            "_view_module_version": "1.2.0",
            "_view_name": "LayoutView",
            "align_content": null,
            "align_items": null,
            "align_self": null,
            "border": null,
            "bottom": null,
            "display": null,
            "flex": null,
            "flex_flow": null,
            "grid_area": null,
            "grid_auto_columns": null,
            "grid_auto_flow": null,
            "grid_auto_rows": null,
            "grid_column": null,
            "grid_gap": null,
            "grid_row": null,
            "grid_template_areas": null,
            "grid_template_columns": null,
            "grid_template_rows": null,
            "height": null,
            "justify_content": null,
            "justify_items": null,
            "left": null,
            "margin": null,
            "max_height": null,
            "max_width": null,
            "min_height": null,
            "min_width": null,
            "object_fit": null,
            "object_position": null,
            "order": null,
            "overflow": null,
            "overflow_x": null,
            "overflow_y": null,
            "padding": null,
            "right": null,
            "top": null,
            "visibility": null,
            "width": null
          }
        },
        "4e73a4dbfbff4fa295fad275f79a22ec": {
          "model_module": "@jupyter-widgets/controls",
          "model_module_version": "1.5.0",
          "model_name": "HBoxModel",
          "state": {
            "_dom_classes": [],
            "_model_module": "@jupyter-widgets/controls",
            "_model_module_version": "1.5.0",
            "_model_name": "HBoxModel",
            "_view_count": null,
            "_view_module": "@jupyter-widgets/controls",
            "_view_module_version": "1.5.0",
            "_view_name": "HBoxView",
            "box_style": "",
            "children": [
              "IPY_MODEL_bef8822cdd77442e8b28932bcb92247b",
              "IPY_MODEL_aab9730dda204ad89a08d22bebff9e4b",
              "IPY_MODEL_a8f2beace36e48bf832661443becfb42"
            ],
            "layout": "IPY_MODEL_cd6c1e4bb8f94e5e9464bba5f9ebad3f"
          }
        },
        "668ef9ab0a5d406dbe71c3c9444253c6": {
          "model_module": "@jupyter-widgets/base",
          "model_module_version": "1.2.0",
          "model_name": "LayoutModel",
          "state": {
            "_model_module": "@jupyter-widgets/base",
            "_model_module_version": "1.2.0",
            "_model_name": "LayoutModel",
            "_view_count": null,
            "_view_module": "@jupyter-widgets/base",
            "_view_module_version": "1.2.0",
            "_view_name": "LayoutView",
            "align_content": null,
            "align_items": null,
            "align_self": null,
            "border": null,
            "bottom": null,
            "display": null,
            "flex": null,
            "flex_flow": null,
            "grid_area": null,
            "grid_auto_columns": null,
            "grid_auto_flow": null,
            "grid_auto_rows": null,
            "grid_column": null,
            "grid_gap": null,
            "grid_row": null,
            "grid_template_areas": null,
            "grid_template_columns": null,
            "grid_template_rows": null,
            "height": null,
            "justify_content": null,
            "justify_items": null,
            "left": null,
            "margin": null,
            "max_height": null,
            "max_width": null,
            "min_height": null,
            "min_width": null,
            "object_fit": null,
            "object_position": null,
            "order": null,
            "overflow": null,
            "overflow_x": null,
            "overflow_y": null,
            "padding": null,
            "right": null,
            "top": null,
            "visibility": null,
            "width": null
          }
        },
        "703419e4f80f4b519df77f8bfeb59e66": {
          "model_module": "@jupyter-widgets/controls",
          "model_module_version": "1.5.0",
          "model_name": "DescriptionStyleModel",
          "state": {
            "_model_module": "@jupyter-widgets/controls",
            "_model_module_version": "1.5.0",
            "_model_name": "DescriptionStyleModel",
            "_view_count": null,
            "_view_module": "@jupyter-widgets/base",
            "_view_module_version": "1.2.0",
            "_view_name": "StyleView",
            "description_width": ""
          }
        },
        "741175d748b34350ada521d9c82255cd": {
          "model_module": "@jupyter-widgets/controls",
          "model_module_version": "1.5.0",
          "model_name": "HBoxModel",
          "state": {
            "_dom_classes": [],
            "_model_module": "@jupyter-widgets/controls",
            "_model_module_version": "1.5.0",
            "_model_name": "HBoxModel",
            "_view_count": null,
            "_view_module": "@jupyter-widgets/controls",
            "_view_module_version": "1.5.0",
            "_view_name": "HBoxView",
            "box_style": "",
            "children": [
              "IPY_MODEL_90e840da237c4499a6be124951756986",
              "IPY_MODEL_c00c4698f00d4a66bf4fbd06324c83fb",
              "IPY_MODEL_1781cb36a10b4f5286c64b51826a2b81"
            ],
            "layout": "IPY_MODEL_33dcaa4cb62042d091ca7a44f4a54965"
          }
        },
        "781874e44b6a4f15a03e3f7bac77d610": {
          "model_module": "@jupyter-widgets/controls",
          "model_module_version": "1.5.0",
          "model_name": "ProgressStyleModel",
          "state": {
            "_model_module": "@jupyter-widgets/controls",
            "_model_module_version": "1.5.0",
            "_model_name": "ProgressStyleModel",
            "_view_count": null,
            "_view_module": "@jupyter-widgets/base",
            "_view_module_version": "1.2.0",
            "_view_name": "StyleView",
            "bar_color": null,
            "description_width": ""
          }
        },
        "82601fc2882143398cadf7e5ccda0a49": {
          "model_module": "@jupyter-widgets/controls",
          "model_module_version": "1.5.0",
          "model_name": "HTMLModel",
          "state": {
            "_dom_classes": [],
            "_model_module": "@jupyter-widgets/controls",
            "_model_module_version": "1.5.0",
            "_model_name": "HTMLModel",
            "_view_count": null,
            "_view_module": "@jupyter-widgets/controls",
            "_view_module_version": "1.5.0",
            "_view_name": "HTMLView",
            "description": "",
            "description_tooltip": null,
            "layout": "IPY_MODEL_4a17b56ddbc243cb8b01fb5b603780a2",
            "placeholder": "​",
            "style": "IPY_MODEL_18eef6e0da914386bbc7e8a04720c204",
            "value": "Map: 100%"
          }
        },
        "8bbb08060a3b4f168b001048bf0a6def": {
          "model_module": "@jupyter-widgets/controls",
          "model_module_version": "1.5.0",
          "model_name": "DescriptionStyleModel",
          "state": {
            "_model_module": "@jupyter-widgets/controls",
            "_model_module_version": "1.5.0",
            "_model_name": "DescriptionStyleModel",
            "_view_count": null,
            "_view_module": "@jupyter-widgets/base",
            "_view_module_version": "1.2.0",
            "_view_name": "StyleView",
            "description_width": ""
          }
        },
        "8d740436094245a7b39318e553478e33": {
          "model_module": "@jupyter-widgets/base",
          "model_module_version": "1.2.0",
          "model_name": "LayoutModel",
          "state": {
            "_model_module": "@jupyter-widgets/base",
            "_model_module_version": "1.2.0",
            "_model_name": "LayoutModel",
            "_view_count": null,
            "_view_module": "@jupyter-widgets/base",
            "_view_module_version": "1.2.0",
            "_view_name": "LayoutView",
            "align_content": null,
            "align_items": null,
            "align_self": null,
            "border": null,
            "bottom": null,
            "display": null,
            "flex": null,
            "flex_flow": null,
            "grid_area": null,
            "grid_auto_columns": null,
            "grid_auto_flow": null,
            "grid_auto_rows": null,
            "grid_column": null,
            "grid_gap": null,
            "grid_row": null,
            "grid_template_areas": null,
            "grid_template_columns": null,
            "grid_template_rows": null,
            "height": null,
            "justify_content": null,
            "justify_items": null,
            "left": null,
            "margin": null,
            "max_height": null,
            "max_width": null,
            "min_height": null,
            "min_width": null,
            "object_fit": null,
            "object_position": null,
            "order": null,
            "overflow": null,
            "overflow_x": null,
            "overflow_y": null,
            "padding": null,
            "right": null,
            "top": null,
            "visibility": null,
            "width": null
          }
        },
        "90e840da237c4499a6be124951756986": {
          "model_module": "@jupyter-widgets/controls",
          "model_module_version": "1.5.0",
          "model_name": "HTMLModel",
          "state": {
            "_dom_classes": [],
            "_model_module": "@jupyter-widgets/controls",
            "_model_module_version": "1.5.0",
            "_model_name": "HTMLModel",
            "_view_count": null,
            "_view_module": "@jupyter-widgets/controls",
            "_view_module_version": "1.5.0",
            "_view_name": "HTMLView",
            "description": "",
            "description_tooltip": null,
            "layout": "IPY_MODEL_0bbb7195db4e4f3fa7084c9b1ff50a28",
            "placeholder": "​",
            "style": "IPY_MODEL_703419e4f80f4b519df77f8bfeb59e66",
            "value": "Loading checkpoint shards: 100%"
          }
        },
        "9394b096fff844d4ae61540b7502a441": {
          "model_module": "@jupyter-widgets/base",
          "model_module_version": "1.2.0",
          "model_name": "LayoutModel",
          "state": {
            "_model_module": "@jupyter-widgets/base",
            "_model_module_version": "1.2.0",
            "_model_name": "LayoutModel",
            "_view_count": null,
            "_view_module": "@jupyter-widgets/base",
            "_view_module_version": "1.2.0",
            "_view_name": "LayoutView",
            "align_content": null,
            "align_items": null,
            "align_self": null,
            "border": null,
            "bottom": null,
            "display": null,
            "flex": null,
            "flex_flow": null,
            "grid_area": null,
            "grid_auto_columns": null,
            "grid_auto_flow": null,
            "grid_auto_rows": null,
            "grid_column": null,
            "grid_gap": null,
            "grid_row": null,
            "grid_template_areas": null,
            "grid_template_columns": null,
            "grid_template_rows": null,
            "height": null,
            "justify_content": null,
            "justify_items": null,
            "left": null,
            "margin": null,
            "max_height": null,
            "max_width": null,
            "min_height": null,
            "min_width": null,
            "object_fit": null,
            "object_position": null,
            "order": null,
            "overflow": null,
            "overflow_x": null,
            "overflow_y": null,
            "padding": null,
            "right": null,
            "top": null,
            "visibility": null,
            "width": null
          }
        },
        "9e0db63005dd47d4a0baac6c898b4025": {
          "model_module": "@jupyter-widgets/base",
          "model_module_version": "1.2.0",
          "model_name": "LayoutModel",
          "state": {
            "_model_module": "@jupyter-widgets/base",
            "_model_module_version": "1.2.0",
            "_model_name": "LayoutModel",
            "_view_count": null,
            "_view_module": "@jupyter-widgets/base",
            "_view_module_version": "1.2.0",
            "_view_name": "LayoutView",
            "align_content": null,
            "align_items": null,
            "align_self": null,
            "border": null,
            "bottom": null,
            "display": null,
            "flex": null,
            "flex_flow": null,
            "grid_area": null,
            "grid_auto_columns": null,
            "grid_auto_flow": null,
            "grid_auto_rows": null,
            "grid_column": null,
            "grid_gap": null,
            "grid_row": null,
            "grid_template_areas": null,
            "grid_template_columns": null,
            "grid_template_rows": null,
            "height": null,
            "justify_content": null,
            "justify_items": null,
            "left": null,
            "margin": null,
            "max_height": null,
            "max_width": null,
            "min_height": null,
            "min_width": null,
            "object_fit": null,
            "object_position": null,
            "order": null,
            "overflow": null,
            "overflow_x": null,
            "overflow_y": null,
            "padding": null,
            "right": null,
            "top": null,
            "visibility": null,
            "width": null
          }
        },
        "a8f2beace36e48bf832661443becfb42": {
          "model_module": "@jupyter-widgets/controls",
          "model_module_version": "1.5.0",
          "model_name": "HTMLModel",
          "state": {
            "_dom_classes": [],
            "_model_module": "@jupyter-widgets/controls",
            "_model_module_version": "1.5.0",
            "_model_name": "HTMLModel",
            "_view_count": null,
            "_view_module": "@jupyter-widgets/controls",
            "_view_module_version": "1.5.0",
            "_view_name": "HTMLView",
            "description": "",
            "description_tooltip": null,
            "layout": "IPY_MODEL_668ef9ab0a5d406dbe71c3c9444253c6",
            "placeholder": "​",
            "style": "IPY_MODEL_24cc20717c8a48858925c86db166a061",
            "value": " 1/1 [00:00&lt;00:00, 60.25it/s]"
          }
        },
        "aab9730dda204ad89a08d22bebff9e4b": {
          "model_module": "@jupyter-widgets/controls",
          "model_module_version": "1.5.0",
          "model_name": "FloatProgressModel",
          "state": {
            "_dom_classes": [],
            "_model_module": "@jupyter-widgets/controls",
            "_model_module_version": "1.5.0",
            "_model_name": "FloatProgressModel",
            "_view_count": null,
            "_view_module": "@jupyter-widgets/controls",
            "_view_module_version": "1.5.0",
            "_view_name": "ProgressView",
            "bar_style": "success",
            "description": "",
            "description_tooltip": null,
            "layout": "IPY_MODEL_3979142ad2bb4717a2047ddda01a9e43",
            "max": 1,
            "min": 0,
            "orientation": "horizontal",
            "style": "IPY_MODEL_781874e44b6a4f15a03e3f7bac77d610",
            "value": 1
          }
        },
        "b70ad0f3660d467abcd25c424b19d28b": {
          "model_module": "@jupyter-widgets/controls",
          "model_module_version": "1.5.0",
          "model_name": "ProgressStyleModel",
          "state": {
            "_model_module": "@jupyter-widgets/controls",
            "_model_module_version": "1.5.0",
            "_model_name": "ProgressStyleModel",
            "_view_count": null,
            "_view_module": "@jupyter-widgets/base",
            "_view_module_version": "1.2.0",
            "_view_name": "StyleView",
            "bar_color": null,
            "description_width": ""
          }
        },
        "bef8822cdd77442e8b28932bcb92247b": {
          "model_module": "@jupyter-widgets/controls",
          "model_module_version": "1.5.0",
          "model_name": "HTMLModel",
          "state": {
            "_dom_classes": [],
            "_model_module": "@jupyter-widgets/controls",
            "_model_module_version": "1.5.0",
            "_model_name": "HTMLModel",
            "_view_count": null,
            "_view_module": "@jupyter-widgets/controls",
            "_view_module_version": "1.5.0",
            "_view_name": "HTMLView",
            "description": "",
            "description_tooltip": null,
            "layout": "IPY_MODEL_de890e1ab7af4040a351f68353ad771f",
            "placeholder": "​",
            "style": "IPY_MODEL_ddc2d265964f48fa8828be658f512c84",
            "value": "100%"
          }
        },
        "c00c4698f00d4a66bf4fbd06324c83fb": {
          "model_module": "@jupyter-widgets/controls",
          "model_module_version": "1.5.0",
          "model_name": "FloatProgressModel",
          "state": {
            "_dom_classes": [],
            "_model_module": "@jupyter-widgets/controls",
            "_model_module_version": "1.5.0",
            "_model_name": "FloatProgressModel",
            "_view_count": null,
            "_view_module": "@jupyter-widgets/controls",
            "_view_module_version": "1.5.0",
            "_view_name": "ProgressView",
            "bar_style": "success",
            "description": "",
            "description_tooltip": null,
            "layout": "IPY_MODEL_9e0db63005dd47d4a0baac6c898b4025",
            "max": 4,
            "min": 0,
            "orientation": "horizontal",
            "style": "IPY_MODEL_c6418f54fd5f44baaea242823df9fb20",
            "value": 4
          }
        },
        "c6418f54fd5f44baaea242823df9fb20": {
          "model_module": "@jupyter-widgets/controls",
          "model_module_version": "1.5.0",
          "model_name": "ProgressStyleModel",
          "state": {
            "_model_module": "@jupyter-widgets/controls",
            "_model_module_version": "1.5.0",
            "_model_name": "ProgressStyleModel",
            "_view_count": null,
            "_view_module": "@jupyter-widgets/base",
            "_view_module_version": "1.2.0",
            "_view_name": "StyleView",
            "bar_color": null,
            "description_width": ""
          }
        },
        "c867d172deff4d4f86772d909f7c14cf": {
          "model_module": "@jupyter-widgets/base",
          "model_module_version": "1.2.0",
          "model_name": "LayoutModel",
          "state": {
            "_model_module": "@jupyter-widgets/base",
            "_model_module_version": "1.2.0",
            "_model_name": "LayoutModel",
            "_view_count": null,
            "_view_module": "@jupyter-widgets/base",
            "_view_module_version": "1.2.0",
            "_view_name": "LayoutView",
            "align_content": null,
            "align_items": null,
            "align_self": null,
            "border": null,
            "bottom": null,
            "display": null,
            "flex": null,
            "flex_flow": null,
            "grid_area": null,
            "grid_auto_columns": null,
            "grid_auto_flow": null,
            "grid_auto_rows": null,
            "grid_column": null,
            "grid_gap": null,
            "grid_row": null,
            "grid_template_areas": null,
            "grid_template_columns": null,
            "grid_template_rows": null,
            "height": null,
            "justify_content": null,
            "justify_items": null,
            "left": null,
            "margin": null,
            "max_height": null,
            "max_width": null,
            "min_height": null,
            "min_width": null,
            "object_fit": null,
            "object_position": null,
            "order": null,
            "overflow": null,
            "overflow_x": null,
            "overflow_y": null,
            "padding": null,
            "right": null,
            "top": null,
            "visibility": null,
            "width": null
          }
        },
        "cd6c1e4bb8f94e5e9464bba5f9ebad3f": {
          "model_module": "@jupyter-widgets/base",
          "model_module_version": "1.2.0",
          "model_name": "LayoutModel",
          "state": {
            "_model_module": "@jupyter-widgets/base",
            "_model_module_version": "1.2.0",
            "_model_name": "LayoutModel",
            "_view_count": null,
            "_view_module": "@jupyter-widgets/base",
            "_view_module_version": "1.2.0",
            "_view_name": "LayoutView",
            "align_content": null,
            "align_items": null,
            "align_self": null,
            "border": null,
            "bottom": null,
            "display": null,
            "flex": null,
            "flex_flow": null,
            "grid_area": null,
            "grid_auto_columns": null,
            "grid_auto_flow": null,
            "grid_auto_rows": null,
            "grid_column": null,
            "grid_gap": null,
            "grid_row": null,
            "grid_template_areas": null,
            "grid_template_columns": null,
            "grid_template_rows": null,
            "height": null,
            "justify_content": null,
            "justify_items": null,
            "left": null,
            "margin": null,
            "max_height": null,
            "max_width": null,
            "min_height": null,
            "min_width": null,
            "object_fit": null,
            "object_position": null,
            "order": null,
            "overflow": null,
            "overflow_x": null,
            "overflow_y": null,
            "padding": null,
            "right": null,
            "top": null,
            "visibility": null,
            "width": null
          }
        },
        "dcff0badd5f74befa2d44ba4a35efa32": {
          "model_module": "@jupyter-widgets/controls",
          "model_module_version": "1.5.0",
          "model_name": "HBoxModel",
          "state": {
            "_dom_classes": [],
            "_model_module": "@jupyter-widgets/controls",
            "_model_module_version": "1.5.0",
            "_model_name": "HBoxModel",
            "_view_count": null,
            "_view_module": "@jupyter-widgets/controls",
            "_view_module_version": "1.5.0",
            "_view_name": "HBoxView",
            "box_style": "",
            "children": [
              "IPY_MODEL_82601fc2882143398cadf7e5ccda0a49",
              "IPY_MODEL_facacfbe43d84f9aa3ba0434969c6893",
              "IPY_MODEL_1592391123b24543a9559b94b9a5293f"
            ],
            "layout": "IPY_MODEL_9394b096fff844d4ae61540b7502a441"
          }
        },
        "ddc2d265964f48fa8828be658f512c84": {
          "model_module": "@jupyter-widgets/controls",
          "model_module_version": "1.5.0",
          "model_name": "DescriptionStyleModel",
          "state": {
            "_model_module": "@jupyter-widgets/controls",
            "_model_module_version": "1.5.0",
            "_model_name": "DescriptionStyleModel",
            "_view_count": null,
            "_view_module": "@jupyter-widgets/base",
            "_view_module_version": "1.2.0",
            "_view_name": "StyleView",
            "description_width": ""
          }
        },
        "de890e1ab7af4040a351f68353ad771f": {
          "model_module": "@jupyter-widgets/base",
          "model_module_version": "1.2.0",
          "model_name": "LayoutModel",
          "state": {
            "_model_module": "@jupyter-widgets/base",
            "_model_module_version": "1.2.0",
            "_model_name": "LayoutModel",
            "_view_count": null,
            "_view_module": "@jupyter-widgets/base",
            "_view_module_version": "1.2.0",
            "_view_name": "LayoutView",
            "align_content": null,
            "align_items": null,
            "align_self": null,
            "border": null,
            "bottom": null,
            "display": null,
            "flex": null,
            "flex_flow": null,
            "grid_area": null,
            "grid_auto_columns": null,
            "grid_auto_flow": null,
            "grid_auto_rows": null,
            "grid_column": null,
            "grid_gap": null,
            "grid_row": null,
            "grid_template_areas": null,
            "grid_template_columns": null,
            "grid_template_rows": null,
            "height": null,
            "justify_content": null,
            "justify_items": null,
            "left": null,
            "margin": null,
            "max_height": null,
            "max_width": null,
            "min_height": null,
            "min_width": null,
            "object_fit": null,
            "object_position": null,
            "order": null,
            "overflow": null,
            "overflow_x": null,
            "overflow_y": null,
            "padding": null,
            "right": null,
            "top": null,
            "visibility": null,
            "width": null
          }
        },
        "f26533af86254de0b4445ad29b21c1f3": {
          "model_module": "@jupyter-widgets/controls",
          "model_module_version": "1.5.0",
          "model_name": "DescriptionStyleModel",
          "state": {
            "_model_module": "@jupyter-widgets/controls",
            "_model_module_version": "1.5.0",
            "_model_name": "DescriptionStyleModel",
            "_view_count": null,
            "_view_module": "@jupyter-widgets/base",
            "_view_module_version": "1.2.0",
            "_view_name": "StyleView",
            "description_width": ""
          }
        },
        "facacfbe43d84f9aa3ba0434969c6893": {
          "model_module": "@jupyter-widgets/controls",
          "model_module_version": "1.5.0",
          "model_name": "FloatProgressModel",
          "state": {
            "_dom_classes": [],
            "_model_module": "@jupyter-widgets/controls",
            "_model_module_version": "1.5.0",
            "_model_name": "FloatProgressModel",
            "_view_count": null,
            "_view_module": "@jupyter-widgets/controls",
            "_view_module_version": "1.5.0",
            "_view_name": "ProgressView",
            "bar_style": "success",
            "description": "",
            "description_tooltip": null,
            "layout": "IPY_MODEL_8d740436094245a7b39318e553478e33",
            "max": 41,
            "min": 0,
            "orientation": "horizontal",
            "style": "IPY_MODEL_b70ad0f3660d467abcd25c424b19d28b",
            "value": 41
          }
        }
      }
    }
  },
  "nbformat": 4,
  "nbformat_minor": 0
}
